{
 "cells": [
  {
   "cell_type": "code",
   "execution_count": 4,
   "id": "a51f45a6",
   "metadata": {},
   "outputs": [
    {
     "name": "stdout",
     "output_type": "stream",
     "text": [
      "Single Variable Linear Regression Metrics:\n",
      "Accuracy: 1.0\n",
      "Precision: 1.0\n",
      "Recall: 1.0\n",
      "F1 Score: 1.0\n",
      "\n",
      "Multiple Variable Linear Regression Metrics:\n",
      "Accuracy: 1.0\n",
      "Precision: 1.0\n",
      "Recall: 1.0\n",
      "F1 Score: 1.0\n"
     ]
    }
   ],
   "source": [
    "import numpy as np\n",
    "import pandas as pd\n",
    "from sklearn.datasets import load_iris\n",
    "from sklearn.model_selection import train_test_split\n",
    "from sklearn.linear_model import LinearRegression\n",
    "from sklearn.metrics import accuracy_score, precision_score, recall_score, f1_score\n",
    "import matplotlib.pyplot as plt\n",
    "\n",
    "# Load the iris dataset\n",
    "iris = load_iris()\n",
    "\n",
    "# Split the dataset into features (X) and labels (y)\n",
    "X = iris.data\n",
    "y = iris.target\n",
    "\n",
    "# Split the dataset into training and testing sets\n",
    "X_train, X_test, y_train, y_test = train_test_split(X, y, test_size=0.2, random_state=42)\n",
    "\n",
    "# Initialize and train the linear regression model for single variable (petal length)\n",
    "linreg_single = LinearRegression()\n",
    "linreg_single.fit(X_train[:, 2].reshape(-1, 1), y_train)\n",
    "\n",
    "# Make predictions on the test set for single variable\n",
    "y_pred_single = linreg_single.predict(X_test[:, 2].reshape(-1, 1))\n",
    "\n",
    "# Calculate metrics for single variable linear regression\n",
    "accuracy_single = accuracy_score(y_test, np.round(y_pred_single))\n",
    "precision_single = precision_score(y_test, np.round(y_pred_single), average='macro')\n",
    "recall_single = recall_score(y_test, np.round(y_pred_single), average='macro')\n",
    "f1_score_single = f1_score(y_test, np.round(y_pred_single), average='macro')\n",
    "\n",
    "print(\"Single Variable Linear Regression Metrics:\")\n",
    "print(\"Accuracy:\", accuracy_single)\n",
    "print(\"Precision:\", precision_single)\n",
    "print(\"Recall:\", recall_single)\n",
    "print(\"F1 Score:\", f1_score_single)\n",
    "\n",
    "# Initialize and train the linear regression model for multiple variables (all features)\n",
    "linreg_multiple = LinearRegression()\n",
    "linreg_multiple.fit(X_train, y_train)\n",
    "\n",
    "# Make predictions on the test set for multiple variables\n",
    "y_pred_multiple = linreg_multiple.predict(X_test)\n",
    "\n",
    "# Calculate metrics for multiple variable linear regression\n",
    "accuracy_multiple = accuracy_score(y_test, np.round(y_pred_multiple))\n",
    "precision_multiple = precision_score(y_test, np.round(y_pred_multiple), average='macro')\n",
    "recall_multiple = recall_score(y_test, np.round(y_pred_multiple), average='macro')\n",
    "f1_score_multiple = f1_score(y_test, np.round(y_pred_multiple), average='macro')\n",
    "\n",
    "print(\"\\nMultiple Variable Linear Regression Metrics:\")\n",
    "print(\"Accuracy:\", accuracy_multiple)\n",
    "print(\"Precision:\", precision_multiple)\n",
    "print(\"Recall:\", recall_multiple)\n",
    "print(\"F1 Score:\", f1_score_multiple)\n"
   ]
  },
  {
   "cell_type": "code",
   "execution_count": null,
   "id": "7921f746",
   "metadata": {},
   "outputs": [],
   "source": []
  }
 ],
 "metadata": {
  "kernelspec": {
   "display_name": "Python 3 (ipykernel)",
   "language": "python",
   "name": "python3"
  },
  "language_info": {
   "codemirror_mode": {
    "name": "ipython",
    "version": 3
   },
   "file_extension": ".py",
   "mimetype": "text/x-python",
   "name": "python",
   "nbconvert_exporter": "python",
   "pygments_lexer": "ipython3",
   "version": "3.10.9"
  }
 },
 "nbformat": 4,
 "nbformat_minor": 5
}
